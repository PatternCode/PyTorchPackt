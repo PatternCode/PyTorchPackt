{
 "cells": [
  {
   "cell_type": "code",
   "execution_count": 3,
   "id": "74f2c675-f1e5-439b-88ba-c3e952f51211",
   "metadata": {},
   "outputs": [
    {
     "name": "stdout",
     "output_type": "stream",
     "text": [
      "[':)', ';-)', ':-)', ':)']\n"
     ]
    }
   ],
   "source": [
    "import re\n",
    "\n",
    "text = \"Hello! How are you? :), I'm feeling good. ;-) What's up? :D, ha ha :-) boat de sut :))\"\n",
    "emoticons = re.findall('(?::|;|=)(?:-)?(?:\\)|\\(|D|P)', text.lower())\n",
    "\n",
    "print(emoticons)\n"
   ]
  },
  {
   "cell_type": "code",
   "execution_count": 1,
   "id": "739cb522-3c13-4847-9058-ba486106e978",
   "metadata": {},
   "outputs": [
    {
     "name": "stdout",
     "output_type": "stream",
     "text": [
      "Found a match: 2024\n"
     ]
    }
   ],
   "source": [
    "import re\n",
    "\n",
    "# Search for the first occurrence of the pattern\n",
    "result = re.search(r'\\d+', 'The year 2024 is here')\n",
    "if result:\n",
    "    print(f'Found a match: {result.group()}')\n"
   ]
  },
  {
   "cell_type": "code",
   "execution_count": 2,
   "id": "94111994-eb5f-4c9b-b404-d356477ea295",
   "metadata": {},
   "outputs": [
    {
     "name": "stdout",
     "output_type": "stream",
     "text": [
      "My number is -----\n"
     ]
    }
   ],
   "source": [
    "import re\n",
    "\n",
    "# Replace all digits with a hyphen\n",
    "result = re.sub(r'\\d', '-', 'My number is 12345')\n",
    "print(result)  # Output: My number is -----\n"
   ]
  },
  {
   "cell_type": "code",
   "execution_count": 3,
   "id": "f5949e63-a8c1-4f77-8ef8-d0979fe6b7d8",
   "metadata": {},
   "outputs": [
    {
     "name": "stdout",
     "output_type": "stream",
     "text": [
      "['Split', 'this', 'sentence', 'into', 'words']\n"
     ]
    }
   ],
   "source": [
    "\n",
    "# Split string by spaces\n",
    "result = re.split(r'\\s+', 'Split this sentence into words')\n",
    "print(result)  # Output: ['Split', 'this', 'sentence', 'into', 'words']\n"
   ]
  },
  {
   "cell_type": "code",
   "execution_count": 4,
   "id": "4e27945b-98d4-408d-84c2-eda5123245d3",
   "metadata": {},
   "outputs": [
    {
     "name": "stdout",
     "output_type": "stream",
     "text": [
      "['123', '456', '789']\n"
     ]
    }
   ],
   "source": [
    "\n",
    "# Compile the pattern for reuse\n",
    "pattern = re.compile(r'\\d+')\n",
    "result = pattern.findall('123 456 789')\n",
    "print(result)  # Output: ['123', '456', '789']\n"
   ]
  },
  {
   "cell_type": "code",
   "execution_count": 5,
   "id": "57b6d967-9be8-4d3d-aa00-d14f85970880",
   "metadata": {},
   "outputs": [
    {
     "name": "stdout",
     "output_type": "stream",
     "text": [
      "Found a match: 42\n",
      "Match starts at: 14\n",
      "Match ends at: 16\n"
     ]
    }
   ],
   "source": [
    "import re\n",
    "\n",
    "# Find the first occurrence of a pattern\n",
    "result = re.search(r'(\\d+)', 'The answer is 42')\n",
    "if result:\n",
    "    print(f'Found a match: {result.group()}')\n",
    "    print(f'Match starts at: {result.start()}')\n",
    "    print(f'Match ends at: {result.end()}')\n"
   ]
  },
  {
   "cell_type": "code",
   "execution_count": 6,
   "id": "56eca75d-e16e-4f42-9a2b-4dfbd13a78f7",
   "metadata": {},
   "outputs": [
    {
     "data": {
      "text/plain": [
       "<re.Match object; span=(14, 16), match='42'>"
      ]
     },
     "execution_count": 6,
     "metadata": {},
     "output_type": "execute_result"
    }
   ],
   "source": [
    "result"
   ]
  },
  {
   "cell_type": "code",
   "execution_count": 2,
   "id": "533e9469-78f1-4410-a015-c25d9793c77b",
   "metadata": {},
   "outputs": [
    {
     "data": {
      "text/plain": [
       "torch.Size([25, 3, 300])"
      ]
     },
     "execution_count": 2,
     "metadata": {},
     "output_type": "execute_result"
    }
   ],
   "source": [
    "import torch\n",
    "from torch.nn.utils.rnn import pad_sequence\n",
    "\n",
    "a = torch.ones(25, 300)\n",
    "b = torch.ones(22, 300)\n",
    "c = torch.ones(15, 300)\n",
    "pad_sequence([a, b, c]).size()"
   ]
  },
  {
   "cell_type": "code",
   "execution_count": 3,
   "id": "168fd970-491f-4082-b6d7-f619998632ed",
   "metadata": {},
   "outputs": [
    {
     "data": {
      "text/plain": [
       "tensor([[1., 1., 1.,  ..., 1., 1., 1.],\n",
       "        [1., 1., 1.,  ..., 1., 1., 1.],\n",
       "        [1., 1., 1.,  ..., 1., 1., 1.],\n",
       "        ...,\n",
       "        [1., 1., 1.,  ..., 1., 1., 1.],\n",
       "        [1., 1., 1.,  ..., 1., 1., 1.],\n",
       "        [1., 1., 1.,  ..., 1., 1., 1.]])"
      ]
     },
     "execution_count": 3,
     "metadata": {},
     "output_type": "execute_result"
    }
   ],
   "source": [
    "a\n"
   ]
  },
  {
   "cell_type": "code",
   "execution_count": 4,
   "id": "f8fffb8b-5783-41b7-ab60-bbca2c79f643",
   "metadata": {},
   "outputs": [
    {
     "data": {
      "text/plain": [
       "tensor([[1., 1., 1.,  ..., 1., 1., 1.],\n",
       "        [1., 1., 1.,  ..., 1., 1., 1.],\n",
       "        [1., 1., 1.,  ..., 1., 1., 1.],\n",
       "        ...,\n",
       "        [1., 1., 1.,  ..., 1., 1., 1.],\n",
       "        [1., 1., 1.,  ..., 1., 1., 1.],\n",
       "        [1., 1., 1.,  ..., 1., 1., 1.]])"
      ]
     },
     "execution_count": 4,
     "metadata": {},
     "output_type": "execute_result"
    }
   ],
   "source": [
    "b"
   ]
  },
  {
   "cell_type": "code",
   "execution_count": 5,
   "id": "18f1bb5d-4690-4c8b-8eea-a0753d8cbf9f",
   "metadata": {},
   "outputs": [
    {
     "data": {
      "text/plain": [
       "tensor([[[1., 1., 1.,  ..., 1., 1., 1.],\n",
       "         [1., 1., 1.,  ..., 1., 1., 1.],\n",
       "         [1., 1., 1.,  ..., 1., 1., 1.]],\n",
       "\n",
       "        [[1., 1., 1.,  ..., 1., 1., 1.],\n",
       "         [1., 1., 1.,  ..., 1., 1., 1.],\n",
       "         [1., 1., 1.,  ..., 1., 1., 1.]],\n",
       "\n",
       "        [[1., 1., 1.,  ..., 1., 1., 1.],\n",
       "         [1., 1., 1.,  ..., 1., 1., 1.],\n",
       "         [1., 1., 1.,  ..., 1., 1., 1.]],\n",
       "\n",
       "        ...,\n",
       "\n",
       "        [[1., 1., 1.,  ..., 1., 1., 1.],\n",
       "         [0., 0., 0.,  ..., 0., 0., 0.],\n",
       "         [0., 0., 0.,  ..., 0., 0., 0.]],\n",
       "\n",
       "        [[1., 1., 1.,  ..., 1., 1., 1.],\n",
       "         [0., 0., 0.,  ..., 0., 0., 0.],\n",
       "         [0., 0., 0.,  ..., 0., 0., 0.]],\n",
       "\n",
       "        [[1., 1., 1.,  ..., 1., 1., 1.],\n",
       "         [0., 0., 0.,  ..., 0., 0., 0.],\n",
       "         [0., 0., 0.,  ..., 0., 0., 0.]]])"
      ]
     },
     "execution_count": 5,
     "metadata": {},
     "output_type": "execute_result"
    }
   ],
   "source": [
    "pad_sequence([a, b, c])"
   ]
  },
  {
   "cell_type": "code",
   "execution_count": 4,
   "id": "38b0b5a9-3554-4b8d-8b2d-5d17bd0b932d",
   "metadata": {},
   "outputs": [
    {
     "data": {
      "text/plain": [
       "':)      :(      :D'"
      ]
     },
     "execution_count": 4,
     "metadata": {},
     "output_type": "execute_result"
    }
   ],
   "source": [
    "emoticons = [':)', ':(', ':D']\n",
    "'      '.join(emoticons)  # Result: \":) :( :D\"\n"
   ]
  },
  {
   "cell_type": "code",
   "execution_count": 9,
   "id": "589bb27f-e1dc-4017-9097-a4d815ab32c2",
   "metadata": {},
   "outputs": [
    {
     "name": "stdout",
     "output_type": "stream",
     "text": [
      "1695504737930059696\n",
      "322818021289917443\n",
      "110\n",
      "110\n"
     ]
    }
   ],
   "source": [
    "x = 787987970879799696987\n",
    "y = 3.14\n",
    "z = 110\n",
    "w = 110\n",
    "print(hash(x))  # Output: 5\n",
    "print(hash(y))  # Output: Some hash value for the float\n",
    "print(hash(z))  # Output: Some hash value for the float\n",
    "print(hash(w))  # Output: Some hash value for the float"
   ]
  },
  {
   "cell_type": "code",
   "execution_count": 6,
   "id": "31d5e217-0920-441a-831b-1814e4023a01",
   "metadata": {},
   "outputs": [
    {
     "name": "stdout",
     "output_type": "stream",
     "text": [
      "2627168912542263326\n"
     ]
    }
   ],
   "source": [
    "s = \"hello\"\n",
    "print(hash(s))  # Output: Hash value for the string \"hello\"\n"
   ]
  },
  {
   "cell_type": "code",
   "execution_count": 7,
   "id": "6d5d5f48-555c-4457-a5b2-d0fcadb73dbc",
   "metadata": {},
   "outputs": [
    {
     "name": "stdout",
     "output_type": "stream",
     "text": [
      "-5955050803291279977\n"
     ]
    }
   ],
   "source": [
    "t = (1, 2, \"hello\")\n",
    "print(hash(t))  # Output: Hash value for the tuple\n"
   ]
  },
  {
   "cell_type": "code",
   "execution_count": null,
   "id": "cc72c190-ba13-43e1-b78c-48571868c376",
   "metadata": {},
   "outputs": [],
   "source": []
  }
 ],
 "metadata": {
  "kernelspec": {
   "display_name": "Python 3 (ipykernel)",
   "language": "python",
   "name": "python3"
  },
  "language_info": {
   "codemirror_mode": {
    "name": "ipython",
    "version": 3
   },
   "file_extension": ".py",
   "mimetype": "text/x-python",
   "name": "python",
   "nbconvert_exporter": "python",
   "pygments_lexer": "ipython3",
   "version": "3.8.19"
  }
 },
 "nbformat": 4,
 "nbformat_minor": 5
}
