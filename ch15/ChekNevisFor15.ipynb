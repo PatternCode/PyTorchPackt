{
 "cells": [
  {
   "cell_type": "code",
   "execution_count": 3,
   "id": "74f2c675-f1e5-439b-88ba-c3e952f51211",
   "metadata": {},
   "outputs": [
    {
     "name": "stdout",
     "output_type": "stream",
     "text": [
      "[':)', ';-)', ':-)', ':)']\n"
     ]
    }
   ],
   "source": [
    "import re\n",
    "\n",
    "text = \"Hello! How are you? :), I'm feeling good. ;-) What's up? :D, ha ha :-) boat de sut :))\"\n",
    "emoticons = re.findall('(?::|;|=)(?:-)?(?:\\)|\\(|D|P)', text.lower())\n",
    "\n",
    "print(emoticons)\n"
   ]
  },
  {
   "cell_type": "code",
   "execution_count": 1,
   "id": "739cb522-3c13-4847-9058-ba486106e978",
   "metadata": {},
   "outputs": [
    {
     "name": "stdout",
     "output_type": "stream",
     "text": [
      "Found a match: 2024\n"
     ]
    }
   ],
   "source": [
    "import re\n",
    "\n",
    "# Search for the first occurrence of the pattern\n",
    "result = re.search(r'\\d+', 'The year 2024 is here')\n",
    "if result:\n",
    "    print(f'Found a match: {result.group()}')\n"
   ]
  },
  {
   "cell_type": "code",
   "execution_count": 2,
   "id": "94111994-eb5f-4c9b-b404-d356477ea295",
   "metadata": {},
   "outputs": [
    {
     "name": "stdout",
     "output_type": "stream",
     "text": [
      "My number is -----\n"
     ]
    }
   ],
   "source": [
    "import re\n",
    "\n",
    "# Replace all digits with a hyphen\n",
    "result = re.sub(r'\\d', '-', 'My number is 12345')\n",
    "print(result)  # Output: My number is -----\n"
   ]
  },
  {
   "cell_type": "code",
   "execution_count": 3,
   "id": "f5949e63-a8c1-4f77-8ef8-d0979fe6b7d8",
   "metadata": {},
   "outputs": [
    {
     "name": "stdout",
     "output_type": "stream",
     "text": [
      "['Split', 'this', 'sentence', 'into', 'words']\n"
     ]
    }
   ],
   "source": [
    "\n",
    "# Split string by spaces\n",
    "result = re.split(r'\\s+', 'Split this sentence into words')\n",
    "print(result)  # Output: ['Split', 'this', 'sentence', 'into', 'words']\n"
   ]
  },
  {
   "cell_type": "code",
   "execution_count": 4,
   "id": "4e27945b-98d4-408d-84c2-eda5123245d3",
   "metadata": {},
   "outputs": [
    {
     "name": "stdout",
     "output_type": "stream",
     "text": [
      "['123', '456', '789']\n"
     ]
    }
   ],
   "source": [
    "\n",
    "# Compile the pattern for reuse\n",
    "pattern = re.compile(r'\\d+')\n",
    "result = pattern.findall('123 456 789')\n",
    "print(result)  # Output: ['123', '456', '789']\n"
   ]
  },
  {
   "cell_type": "code",
   "execution_count": 5,
   "id": "57b6d967-9be8-4d3d-aa00-d14f85970880",
   "metadata": {},
   "outputs": [
    {
     "name": "stdout",
     "output_type": "stream",
     "text": [
      "Found a match: 42\n",
      "Match starts at: 14\n",
      "Match ends at: 16\n"
     ]
    }
   ],
   "source": [
    "import re\n",
    "\n",
    "# Find the first occurrence of a pattern\n",
    "result = re.search(r'(\\d+)', 'The answer is 42')\n",
    "if result:\n",
    "    print(f'Found a match: {result.group()}')\n",
    "    print(f'Match starts at: {result.start()}')\n",
    "    print(f'Match ends at: {result.end()}')\n"
   ]
  },
  {
   "cell_type": "code",
   "execution_count": 6,
   "id": "56eca75d-e16e-4f42-9a2b-4dfbd13a78f7",
   "metadata": {},
   "outputs": [
    {
     "data": {
      "text/plain": [
       "<re.Match object; span=(14, 16), match='42'>"
      ]
     },
     "execution_count": 6,
     "metadata": {},
     "output_type": "execute_result"
    }
   ],
   "source": [
    "result"
   ]
  },
  {
   "cell_type": "code",
   "execution_count": 2,
   "id": "533e9469-78f1-4410-a015-c25d9793c77b",
   "metadata": {},
   "outputs": [
    {
     "data": {
      "text/plain": [
       "torch.Size([25, 3, 300])"
      ]
     },
     "execution_count": 2,
     "metadata": {},
     "output_type": "execute_result"
    }
   ],
   "source": [
    "import torch\n",
    "from torch.nn.utils.rnn import pad_sequence\n",
    "\n",
    "a = torch.ones(25, 300)\n",
    "b = torch.ones(22, 300)\n",
    "c = torch.ones(15, 300)\n",
    "pad_sequence([a, b, c]).size()"
   ]
  },
  {
   "cell_type": "code",
   "execution_count": 3,
   "id": "168fd970-491f-4082-b6d7-f619998632ed",
   "metadata": {},
   "outputs": [
    {
     "data": {
      "text/plain": [
       "tensor([[1., 1., 1.,  ..., 1., 1., 1.],\n",
       "        [1., 1., 1.,  ..., 1., 1., 1.],\n",
       "        [1., 1., 1.,  ..., 1., 1., 1.],\n",
       "        ...,\n",
       "        [1., 1., 1.,  ..., 1., 1., 1.],\n",
       "        [1., 1., 1.,  ..., 1., 1., 1.],\n",
       "        [1., 1., 1.,  ..., 1., 1., 1.]])"
      ]
     },
     "execution_count": 3,
     "metadata": {},
     "output_type": "execute_result"
    }
   ],
   "source": [
    "a\n"
   ]
  },
  {
   "cell_type": "code",
   "execution_count": 4,
   "id": "f8fffb8b-5783-41b7-ab60-bbca2c79f643",
   "metadata": {},
   "outputs": [
    {
     "data": {
      "text/plain": [
       "tensor([[1., 1., 1.,  ..., 1., 1., 1.],\n",
       "        [1., 1., 1.,  ..., 1., 1., 1.],\n",
       "        [1., 1., 1.,  ..., 1., 1., 1.],\n",
       "        ...,\n",
       "        [1., 1., 1.,  ..., 1., 1., 1.],\n",
       "        [1., 1., 1.,  ..., 1., 1., 1.],\n",
       "        [1., 1., 1.,  ..., 1., 1., 1.]])"
      ]
     },
     "execution_count": 4,
     "metadata": {},
     "output_type": "execute_result"
    }
   ],
   "source": [
    "b"
   ]
  },
  {
   "cell_type": "code",
   "execution_count": 5,
   "id": "18f1bb5d-4690-4c8b-8eea-a0753d8cbf9f",
   "metadata": {},
   "outputs": [
    {
     "data": {
      "text/plain": [
       "tensor([[[1., 1., 1.,  ..., 1., 1., 1.],\n",
       "         [1., 1., 1.,  ..., 1., 1., 1.],\n",
       "         [1., 1., 1.,  ..., 1., 1., 1.]],\n",
       "\n",
       "        [[1., 1., 1.,  ..., 1., 1., 1.],\n",
       "         [1., 1., 1.,  ..., 1., 1., 1.],\n",
       "         [1., 1., 1.,  ..., 1., 1., 1.]],\n",
       "\n",
       "        [[1., 1., 1.,  ..., 1., 1., 1.],\n",
       "         [1., 1., 1.,  ..., 1., 1., 1.],\n",
       "         [1., 1., 1.,  ..., 1., 1., 1.]],\n",
       "\n",
       "        ...,\n",
       "\n",
       "        [[1., 1., 1.,  ..., 1., 1., 1.],\n",
       "         [0., 0., 0.,  ..., 0., 0., 0.],\n",
       "         [0., 0., 0.,  ..., 0., 0., 0.]],\n",
       "\n",
       "        [[1., 1., 1.,  ..., 1., 1., 1.],\n",
       "         [0., 0., 0.,  ..., 0., 0., 0.],\n",
       "         [0., 0., 0.,  ..., 0., 0., 0.]],\n",
       "\n",
       "        [[1., 1., 1.,  ..., 1., 1., 1.],\n",
       "         [0., 0., 0.,  ..., 0., 0., 0.],\n",
       "         [0., 0., 0.,  ..., 0., 0., 0.]]])"
      ]
     },
     "execution_count": 5,
     "metadata": {},
     "output_type": "execute_result"
    }
   ],
   "source": [
    "pad_sequence([a, b, c])"
   ]
  },
  {
   "cell_type": "code",
   "execution_count": 4,
   "id": "38b0b5a9-3554-4b8d-8b2d-5d17bd0b932d",
   "metadata": {},
   "outputs": [
    {
     "data": {
      "text/plain": [
       "':)      :(      :D'"
      ]
     },
     "execution_count": 4,
     "metadata": {},
     "output_type": "execute_result"
    }
   ],
   "source": [
    "emoticons = [':)', ':(', ':D']\n",
    "'      '.join(emoticons)  # Result: \":) :( :D\"\n"
   ]
  },
  {
   "cell_type": "code",
   "execution_count": 9,
   "id": "589bb27f-e1dc-4017-9097-a4d815ab32c2",
   "metadata": {},
   "outputs": [
    {
     "name": "stdout",
     "output_type": "stream",
     "text": [
      "1695504737930059696\n",
      "322818021289917443\n",
      "110\n",
      "110\n"
     ]
    }
   ],
   "source": [
    "x = 787987970879799696987\n",
    "y = 3.14\n",
    "z = 110\n",
    "w = 110\n",
    "print(hash(x))  # Output: 5\n",
    "print(hash(y))  # Output: Some hash value for the float\n",
    "print(hash(z))  # Output: Some hash value for the float\n",
    "print(hash(w))  # Output: Some hash value for the float"
   ]
  },
  {
   "cell_type": "code",
   "execution_count": 6,
   "id": "31d5e217-0920-441a-831b-1814e4023a01",
   "metadata": {},
   "outputs": [
    {
     "name": "stdout",
     "output_type": "stream",
     "text": [
      "2627168912542263326\n"
     ]
    }
   ],
   "source": [
    "s = \"hello\"\n",
    "print(hash(s))  # Output: Hash value for the string \"hello\"\n"
   ]
  },
  {
   "cell_type": "code",
   "execution_count": 7,
   "id": "6d5d5f48-555c-4457-a5b2-d0fcadb73dbc",
   "metadata": {},
   "outputs": [
    {
     "name": "stdout",
     "output_type": "stream",
     "text": [
      "-5955050803291279977\n"
     ]
    }
   ],
   "source": [
    "t = (1, 2, \"hello\")\n",
    "print(hash(t))  # Output: Hash value for the tuple\n"
   ]
  },
  {
   "cell_type": "code",
   "execution_count": 2,
   "id": "cc72c190-ba13-43e1-b78c-48571868c376",
   "metadata": {},
   "outputs": [
    {
     "data": {
      "text/plain": [
       "'rnn_model.pdf'"
      ]
     },
     "execution_count": 2,
     "metadata": {},
     "output_type": "execute_result"
    }
   ],
   "source": [
    "import torch\n",
    "import torch.nn as nn\n",
    "from torchviz import make_dot\n",
    "\n",
    "# Define the RNN model as given\n",
    "class RNN(nn.Module):\n",
    "    def __init__(self, input_size, hidden_size):\n",
    "        super().__init__()\n",
    "        self.rnn = nn.RNN(input_size, hidden_size, num_layers=2, batch_first=True)\n",
    "        self.fc = nn.Linear(hidden_size, 1)\n",
    "     \n",
    "    def forward(self, x):\n",
    "        _, hidden = self.rnn(x)\n",
    "        out = hidden[-1, :, :]\n",
    "        out = self.fc(out)\n",
    "        return out\n",
    "\n",
    "# Instantiate the model\n",
    "model = RNN(64, 32)\n",
    "\n",
    "# Create a dummy input tensor with the shape (batch_size, seq_length, input_size)\n",
    "x = torch.randn(1, 10, 64)\n",
    "\n",
    "# Get the model's output\n",
    "y = model(x)\n",
    "\n",
    "# Create a graph from the model\n",
    "make_dot(y, params=dict(model.named_parameters())).render(\"rnn_model\", format=\"pdf\")\n"
   ]
  },
  {
   "cell_type": "code",
   "execution_count": 3,
   "id": "4bd1869f-3ce8-4f82-b7f2-f3efec01e797",
   "metadata": {},
   "outputs": [
    {
     "data": {
      "image/png": "[encoded data removed]",
      "text/plain": [
       "<Figure size 640x480 with 1 Axes>"
      ]
     },
     "metadata": {},
     "output_type": "display_data"
    }
   ],
   "source": [
    "import matplotlib.pyplot as plt\n",
    "import networkx as nx\n",
    "\n",
    "# Define the RNN model structure\n",
    "layers = [\n",
    "    (\"Input Layer\", \"RNN Layer 1\"),\n",
    "    (\"RNN Layer 1\", \"RNN Layer 2\"),\n",
    "    (\"RNN Layer 2\", \"Fully Connected Layer\"),\n",
    "    (\"Fully Connected Layer\", \"Output Layer\")\n",
    "]\n",
    "\n",
    "# Create a directed graph\n",
    "G = nx.DiGraph()\n",
    "\n",
    "# Add edges to the graph\n",
    "G.add_edges_from(layers)\n",
    "\n",
    "# Define positions for the nodes in the graph\n",
    "pos = {\n",
    "    \"Input Layer\": (0, 3),\n",
    "    \"RNN Layer 1\": (1, 2),\n",
    "    \"RNN Layer 2\": (2, 1),\n",
    "    \"Fully Connected Layer\": (3, 0),\n",
    "    \"Output Layer\": (4, -1)\n",
    "}\n",
    "\n",
    "# Draw the graph\n",
    "nx.draw(G, pos, with_labels=True, node_size=3000, node_color=\"skyblue\", font_size=12, font_weight=\"bold\", arrowsize=20)\n",
    "\n",
    "# Display the graph\n",
    "plt.title(\"Simplified RNN Model Structure\")\n",
    "plt.show()\n"
   ]
  },
  {
   "cell_type": "code",
   "execution_count": 5,
   "id": "7f31ae3a-2747-4313-afd3-e74cc5b46fc5",
   "metadata": {},
   "outputs": [],
   "source": [
    "import torch\n",
    "import torch.nn as nn\n",
    "from torch.utils.tensorboard import SummaryWriter\n",
    "\n",
    "# Define the RNN model\n",
    "class RNN(nn.Module):\n",
    "    def __init__(self, input_size, hidden_size):\n",
    "        super().__init__()\n",
    "        self.rnn = nn.RNN(input_size, hidden_size, num_layers=2, batch_first=True)\n",
    "        self.fc = nn.Linear(hidden_size, 1)\n",
    "     \n",
    "    def forward(self, x):\n",
    "        _, hidden = self.rnn(x)\n",
    "        out = hidden[-1, :, :]\n",
    "        out = self.fc(out)\n",
    "        return out\n",
    "\n",
    "# Instantiate the model\n",
    "model = RNN(64, 32)\n",
    "\n",
    "# Create a dummy input tensor with the shape (batch_size, seq_length, input_size)\n",
    "dummy_input = torch.randn(1, 10, 64)\n",
    "\n",
    "# Create a SummaryWriter to log data for TensorBoard\n",
    "writer = SummaryWriter('runs/rnn_model')\n",
    "\n",
    "# Add the model graph to TensorBoard\n",
    "writer.add_graph(model, dummy_input)\n",
    "writer.close()\n"
   ]
  },
  {
   "cell_type": "code",
   "execution_count": 1,
   "id": "f1e2ba5b-7462-4012-ab24-2b0157bf372e",
   "metadata": {},
   "outputs": [],
   "source": [
    "import torch\n",
    "import torch.nn as nn\n",
    "embedding = nn.Embedding(100, 10, padding_idx=0)"
   ]
  },
  {
   "cell_type": "code",
   "execution_count": 6,
   "id": "51c908ae-af50-4c5f-8dc1-a83b24a9d5ca",
   "metadata": {},
   "outputs": [
    {
     "data": {
      "text/plain": [
       "tensor([[[-0.6628,  0.2060, -0.8222,  1.3805, -0.1268, -0.8516,  0.4804,\n",
       "           0.7751, -0.4572,  0.6919],\n",
       "         [ 2.1923,  1.2704,  0.3963, -0.7098,  0.2455, -0.7842, -0.2333,\n",
       "          -0.3552, -1.0713,  1.1463],\n",
       "         [-0.4453,  1.0289,  0.9121, -1.0860, -1.3751, -1.5448, -0.6182,\n",
       "          -0.3981, -0.3966, -0.6777]],\n",
       "\n",
       "        [[-0.4453,  1.0289,  0.9121, -1.0860, -1.3751, -1.5448, -0.6182,\n",
       "          -0.3981, -0.3966, -0.6777],\n",
       "         [-0.5376, -0.6016,  0.2794, -1.4749, -0.1736, -0.2281,  0.9785,\n",
       "           1.5403, -1.7224, -0.2907],\n",
       "         [ 1.8598,  0.5657,  0.2667, -0.2117, -0.1649, -0.8406,  1.8495,\n",
       "           0.3938,  0.4264, -0.0145]]], grad_fn=<EmbeddingBackward0>)"
      ]
     },
     "execution_count": 6,
     "metadata": {},
     "output_type": "execute_result"
    }
   ],
   "source": [
    "embedding(torch.tensor([[1,20,45],[45,67,7]]))"
   ]
  },
  {
   "cell_type": "code",
   "execution_count": 8,
   "id": "045b8445-2d27-4d32-a930-dac3a5390061",
   "metadata": {},
   "outputs": [
    {
     "data": {
      "text/plain": [
       "tensor([0, 1, 4])"
      ]
     },
     "execution_count": 8,
     "metadata": {},
     "output_type": "execute_result"
    }
   ],
   "source": [
    "tens = torch.tensor([[0],[1],[4]])\n",
    "tens[:,0]\n"
   ]
  },
  {
   "cell_type": "code",
   "execution_count": 2,
   "id": "b28f730d-9021-4190-a2d3-acb01798bcf6",
   "metadata": {},
   "outputs": [
    {
     "name": "stdout",
     "output_type": "stream",
     "text": [
      "'hello\\nworld'\n",
      "hello\n",
      "world\n"
     ]
    }
   ],
   "source": [
    "s = \"hello\\nworld\"\n",
    "print(repr(s))\n",
    "print(s)"
   ]
  },
  {
   "cell_type": "code",
   "execution_count": 8,
   "id": "36577323-4e37-4044-98b8-7dcb543f6080",
   "metadata": {},
   "outputs": [
    {
     "name": "stdout",
     "output_type": "stream",
     "text": [
      "Probabilities: [1.01e-43 1.01e-43 7.47e-43 1.00e+00]\n",
      "[[3 2]\n",
      " [3 1]\n",
      " [3 2]\n",
      " [3 1]\n",
      " [3 0]\n",
      " [3 0]\n",
      " [3 2]\n",
      " [3 0]\n",
      " [3 2]\n",
      " [3 2]]\n"
     ]
    }
   ],
   "source": [
    "import torch\n",
    "import torch.nn as nn\n",
    "from torch.distributions.categorical import Categorical\n",
    "\n",
    "torch.manual_seed(1)\n",
    "\n",
    "logits = torch.tensor([[1.0, 1.0, 3.0,100],[1,1,1,1]])\n",
    "\n",
    "print('Probabilities:', nn.functional.softmax(logits, dim=1).numpy()[0])\n",
    "\n",
    "m = Categorical(logits=logits)\n",
    "samples = m.sample((10,))\n",
    " \n",
    "print(samples.numpy())"
   ]
  },
  {
   "cell_type": "code",
   "execution_count": 10,
   "id": "72ee3e18-135c-42be-b0f3-309065521065",
   "metadata": {},
   "outputs": [
    {
     "data": {
      "text/plain": [
       "2"
      ]
     },
     "execution_count": 10,
     "metadata": {},
     "output_type": "execute_result"
    }
   ],
   "source": [
    "m1 = Categorical(torch.tensor([ 0.25, 0.25, 0.25, 0.25 ]))\n",
    "m1.sample().item()  # equal probability of 0, 1, 2, 3"
   ]
  },
  {
   "cell_type": "code",
   "execution_count": 16,
   "id": "54805440-ed8f-4021-a1a2-53c1d97e8378",
   "metadata": {},
   "outputs": [
    {
     "data": {
      "text/plain": [
       "tensor([[1, 2, 0, 2, 3, 2, 0, 1, 2, 3],\n",
       "        [2, 1, 0, 3, 2, 2, 1, 2, 2, 2],\n",
       "        [2, 2, 2, 2, 2, 2, 2, 2, 2, 2],\n",
       "        [1, 2, 2, 2, 0, 2, 3, 2, 0, 2],\n",
       "        [2, 2, 2, 2, 2, 2, 2, 2, 1, 0],\n",
       "        [2, 1, 2, 0, 2, 3, 1, 2, 1, 0],\n",
       "        [1, 2, 2, 2, 2, 2, 2, 2, 3, 2],\n",
       "        [0, 2, 2, 2, 3, 0, 2, 3, 2, 3],\n",
       "        [3, 2, 2, 1, 3, 3, 2, 2, 2, 3],\n",
       "        [2, 0, 1, 1, 1, 2, 3, 1, 2, 3]])"
      ]
     },
     "execution_count": 16,
     "metadata": {},
     "output_type": "execute_result"
    }
   ],
   "source": [
    "m1 = Categorical(torch.tensor([ 0.25, 0.25, 1, 0.25 ]))\n",
    "m1.sample((10,10))  # equal probability of 0, 1, 2, 3"
   ]
  },
  {
   "cell_type": "code",
   "execution_count": 17,
   "id": "16002449-1e55-4fc5-9553-87ee95dab081",
   "metadata": {},
   "outputs": [
    {
     "data": {
      "text/plain": [
       "tensor([0, 1, 2, 3])"
      ]
     },
     "execution_count": 17,
     "metadata": {},
     "output_type": "execute_result"
    }
   ],
   "source": [
    "a = torch.arange(4.)\n",
    "torch.reshape(a, (2, 2))\n",
    "b = torch.tensor([[0, 1], [2, 3]])\n",
    "torch.reshape(b, (-1,))"
   ]
  },
  {
   "cell_type": "code",
   "execution_count": null,
   "id": "4ee8bcbb-4244-4849-9b50-ba4ce3104fcb",
   "metadata": {},
   "outputs": [],
   "source": []
  }
 ],
 "metadata": {
  "kernelspec": {
   "display_name": "Python 3 (ipykernel)",
   "language": "python",
   "name": "python3"
  },
  "language_info": {
   "codemirror_mode": {
    "name": "ipython",
    "version": 3
   },
   "file_extension": ".py",
   "mimetype": "text/x-python",
   "name": "python",
   "nbconvert_exporter": "python",
   "pygments_lexer": "ipython3",
   "version": "3.8.19"
  }
 },
 "nbformat": 4,
 "nbformat_minor": 5
}
