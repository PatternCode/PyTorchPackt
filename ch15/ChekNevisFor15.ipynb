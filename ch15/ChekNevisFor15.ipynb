{
 "cells": [
  {
   "cell_type": "code",
   "execution_count": 3,
   "id": "74f2c675-f1e5-439b-88ba-c3e952f51211",
   "metadata": {},
   "outputs": [
    {
     "name": "stdout",
     "output_type": "stream",
     "text": [
      "[':)', ';-)', ':-)', ':)']\n"
     ]
    }
   ],
   "source": [
    "import re\n",
    "\n",
    "text = \"Hello! How are you? :), I'm feeling good. ;-) What's up? :D, ha ha :-) boat de sut :))\"\n",
    "emoticons = re.findall('(?::|;|=)(?:-)?(?:\\)|\\(|D|P)', text.lower())\n",
    "\n",
    "print(emoticons)\n"
   ]
  },
  {
   "cell_type": "code",
   "execution_count": 1,
   "id": "739cb522-3c13-4847-9058-ba486106e978",
   "metadata": {},
   "outputs": [
    {
     "name": "stdout",
     "output_type": "stream",
     "text": [
      "Found a match: 2024\n"
     ]
    }
   ],
   "source": [
    "import re\n",
    "\n",
    "# Search for the first occurrence of the pattern\n",
    "result = re.search(r'\\d+', 'The year 2024 is here')\n",
    "if result:\n",
    "    print(f'Found a match: {result.group()}')\n"
   ]
  },
  {
   "cell_type": "code",
   "execution_count": 2,
   "id": "94111994-eb5f-4c9b-b404-d356477ea295",
   "metadata": {},
   "outputs": [
    {
     "name": "stdout",
     "output_type": "stream",
     "text": [
      "My number is -----\n"
     ]
    }
   ],
   "source": [
    "import re\n",
    "\n",
    "# Replace all digits with a hyphen\n",
    "result = re.sub(r'\\d', '-', 'My number is 12345')\n",
    "print(result)  # Output: My number is -----\n"
   ]
  },
  {
   "cell_type": "code",
   "execution_count": 3,
   "id": "f5949e63-a8c1-4f77-8ef8-d0979fe6b7d8",
   "metadata": {},
   "outputs": [
    {
     "name": "stdout",
     "output_type": "stream",
     "text": [
      "['Split', 'this', 'sentence', 'into', 'words']\n"
     ]
    }
   ],
   "source": [
    "\n",
    "# Split string by spaces\n",
    "result = re.split(r'\\s+', 'Split this sentence into words')\n",
    "print(result)  # Output: ['Split', 'this', 'sentence', 'into', 'words']\n"
   ]
  },
  {
   "cell_type": "code",
   "execution_count": 4,
   "id": "4e27945b-98d4-408d-84c2-eda5123245d3",
   "metadata": {},
   "outputs": [
    {
     "name": "stdout",
     "output_type": "stream",
     "text": [
      "['123', '456', '789']\n"
     ]
    }
   ],
   "source": [
    "\n",
    "# Compile the pattern for reuse\n",
    "pattern = re.compile(r'\\d+')\n",
    "result = pattern.findall('123 456 789')\n",
    "print(result)  # Output: ['123', '456', '789']\n"
   ]
  },
  {
   "cell_type": "code",
   "execution_count": 5,
   "id": "57b6d967-9be8-4d3d-aa00-d14f85970880",
   "metadata": {},
   "outputs": [
    {
     "name": "stdout",
     "output_type": "stream",
     "text": [
      "Found a match: 42\n",
      "Match starts at: 14\n",
      "Match ends at: 16\n"
     ]
    }
   ],
   "source": [
    "import re\n",
    "\n",
    "# Find the first occurrence of a pattern\n",
    "result = re.search(r'(\\d+)', 'The answer is 42')\n",
    "if result:\n",
    "    print(f'Found a match: {result.group()}')\n",
    "    print(f'Match starts at: {result.start()}')\n",
    "    print(f'Match ends at: {result.end()}')\n"
   ]
  },
  {
   "cell_type": "code",
   "execution_count": 6,
   "id": "56eca75d-e16e-4f42-9a2b-4dfbd13a78f7",
   "metadata": {},
   "outputs": [
    {
     "data": {
      "text/plain": [
       "<re.Match object; span=(14, 16), match='42'>"
      ]
     },
     "execution_count": 6,
     "metadata": {},
     "output_type": "execute_result"
    }
   ],
   "source": [
    "result"
   ]
  },
  {
   "cell_type": "code",
   "execution_count": null,
   "id": "533e9469-78f1-4410-a015-c25d9793c77b",
   "metadata": {},
   "outputs": [],
   "source": []
  }
 ],
 "metadata": {
  "kernelspec": {
   "display_name": "Python 3 (ipykernel)",
   "language": "python",
   "name": "python3"
  },
  "language_info": {
   "codemirror_mode": {
    "name": "ipython",
    "version": 3
   },
   "file_extension": ".py",
   "mimetype": "text/x-python",
   "name": "python",
   "nbconvert_exporter": "python",
   "pygments_lexer": "ipython3",
   "version": "3.8.19"
  }
 },
 "nbformat": 4,
 "nbformat_minor": 5
}
